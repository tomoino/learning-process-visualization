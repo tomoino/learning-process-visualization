{
 "cells": [
  {
   "cell_type": "code",
   "execution_count": 5,
   "id": "f9533d8e-00ac-4431-9531-7752e5a27331",
   "metadata": {},
   "outputs": [
    {
     "name": "stdout",
     "output_type": "stream",
     "text": [
      "['/workspace/app', '/opt/conda/lib/python39.zip', '/opt/conda/lib/python3.9', '/opt/conda/lib/python3.9/lib-dynload', '', '/opt/conda/lib/python3.9/site-packages', '/workspace']\n"
     ]
    }
   ],
   "source": [
    "# 自作モジュールのパスを追加\n",
    "import sys\n",
    "sys.path.append(\"/workspace\")"
   ]
  },
  {
   "cell_type": "code",
   "execution_count": 6,
   "id": "16210734-c0e6-4869-b780-bbb1e45e592d",
   "metadata": {},
   "outputs": [],
   "source": [
    "from lpvis.dim_reducer.tsne import TSNE"
   ]
  },
  {
   "cell_type": "code",
   "execution_count": null,
   "id": "dfaa8691-d0bd-45c0-aa76-91dfdc9151e7",
   "metadata": {},
   "outputs": [],
   "source": []
  }
 ],
 "metadata": {
  "kernelspec": {
   "display_name": "Python 3 (ipykernel)",
   "language": "python",
   "name": "python3"
  },
  "language_info": {
   "codemirror_mode": {
    "name": "ipython",
    "version": 3
   },
   "file_extension": ".py",
   "mimetype": "text/x-python",
   "name": "python",
   "nbconvert_exporter": "python",
   "pygments_lexer": "ipython3",
   "version": "3.9.7"
  }
 },
 "nbformat": 4,
 "nbformat_minor": 5
}
